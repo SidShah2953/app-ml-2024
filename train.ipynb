{
 "cells": [
  {
   "cell_type": "markdown",
   "metadata": {},
   "source": [
    "# Initial Set Up"
   ]
  },
  {
   "cell_type": "code",
   "execution_count": 1,
   "metadata": {},
   "outputs": [],
   "source": [
    "%matplotlib inline\n",
    "import matplotlib.pyplot as plt\n",
    "from textblob import TextBlob\n",
    "import pandas as pd\n",
    "from sklearn.feature_extraction.text import CountVectorizer, TfidfTransformer\n",
    "from sklearn.svm import SVC\n",
    "from sklearn.metrics import classification_report, accuracy_score, confusion_matrix\n",
    "from sklearn.pipeline import Pipeline\n",
    "from sklearn.model_selection import GridSearchCV\n",
    "from sklearn.model_selection import StratifiedKFold"
   ]
  },
  {
   "cell_type": "code",
   "execution_count": 9,
   "metadata": {},
   "outputs": [],
   "source": [
    "import mlflow\n",
    "mlflow.set_tracking_uri(\"http://127.0.0.1:5000\")\n",
    "mlflow_experiment_id = 260523122208174751"
   ]
  },
  {
   "cell_type": "markdown",
   "metadata": {},
   "source": [
    "# Implementing a Model"
   ]
  },
  {
   "cell_type": "code",
   "execution_count": 3,
   "metadata": {},
   "outputs": [],
   "source": [
    "def split_into_lemmas(message):\n",
    "    message = message.lower()\n",
    "    words = TextBlob(message).words\n",
    "    # for each word, take its \"base form\" = lemma \n",
    "    return [word.lemma for word in words]"
   ]
  },
  {
   "cell_type": "markdown",
   "metadata": {},
   "source": [
    "## Work on Training Data"
   ]
  },
  {
   "cell_type": "code",
   "execution_count": 4,
   "metadata": {},
   "outputs": [],
   "source": [
    "train = pd.read_csv('Data/train.csv',\n",
    "                       header=0)\n",
    "train = train.dropna()"
   ]
  },
  {
   "cell_type": "code",
   "execution_count": 5,
   "metadata": {},
   "outputs": [],
   "source": [
    "msg_train = train['content']\n",
    "label_train = train['label']"
   ]
  },
  {
   "cell_type": "markdown",
   "metadata": {},
   "source": [
    "- I choose to train a Support Vector Machine.\n",
    "- I start by creating a pipeline and auto-tune over the training data to find the ideal hyper-parameters."
   ]
  },
  {
   "cell_type": "code",
   "execution_count": 6,
   "metadata": {},
   "outputs": [],
   "source": [
    "pipeline_svm = Pipeline([\n",
    "    ('bow', CountVectorizer(\n",
    "        analyzer=split_into_lemmas)),\n",
    "    ('tfidf', TfidfTransformer()),\n",
    "    ('classifier', SVC()),\n",
    "])\n",
    "\n",
    "# pipeline parameters to automatically explore and tune\n",
    "param_svm = [\n",
    "  {'classifier__C': [1, 10, 100, 1000],\n",
    "   'classifier__kernel': ['linear']\n",
    "   },\n",
    "  {'classifier__C': [1, 10, 100, 1000],\n",
    "   'classifier__gamma': [0.001, 0.0001],\n",
    "   'classifier__kernel': ['rbf']\n",
    "   },\n",
    "]\n",
    "\n",
    "grid_svm = GridSearchCV(\n",
    "    pipeline_svm,  # pipeline from above\n",
    "    param_grid=param_svm,  # parameters to tune via cross validation\n",
    "    refit=True,  # fit using all data, on the best detected classifier\n",
    "    n_jobs=-1,  # number of cores to use for parallelization; -1 for \"all cores\"\n",
    "    scoring='accuracy',  # what score are we optimizing?\n",
    "    cv=StratifiedKFold(n_splits=10),  # what type of cross validation to use\n",
    ")\n",
    "\n",
    "svm_detectors = grid_svm.fit(msg_train, label_train) # find the best combination from param_svm"
   ]
  },
  {
   "cell_type": "code",
   "execution_count": 7,
   "metadata": {},
   "outputs": [],
   "source": [
    "gscv_mean_acc = svm_detectors.cv_results_['mean_test_score']\n",
    "gscv_std_acc = svm_detectors.cv_results_['std_test_score']\n",
    "gscv_params = svm_detectors.cv_results_['params']"
   ]
  },
  {
   "cell_type": "code",
   "execution_count": 10,
   "metadata": {},
   "outputs": [
    {
     "name": "stderr",
     "output_type": "stream",
     "text": [
      "/Users/sidshah/miniconda3/envs/aml-2024/lib/python3.11/site-packages/_distutils_hack/__init__.py:18: UserWarning: Distutils was imported before Setuptools, but importing Setuptools also replaces the `distutils` module in `sys.modules`. This may lead to undesirable behaviors or errors. To avoid these issues, avoid using distutils directly, ensure that setuptools is installed in the traditional way (e.g. not an editable install), and/or make sure that setuptools is always imported before distutils.\n",
      "  warnings.warn(\n",
      "/Users/sidshah/miniconda3/envs/aml-2024/lib/python3.11/site-packages/_distutils_hack/__init__.py:33: UserWarning: Setuptools is replacing distutils.\n",
      "  warnings.warn(\"Setuptools is replacing distutils.\")\n"
     ]
    }
   ],
   "source": [
    "for i in range(len(gscv_params)):\n",
    "    run_mean_acc = gscv_mean_acc[i]\n",
    "    run_std_acc = gscv_std_acc[i]\n",
    "    run_params = gscv_params[i]\n",
    "    run_params = {key[len(\"classifier__\"):] : run_params[key]\n",
    "                  for key in run_params.keys()}\n",
    "    \n",
    "    with mlflow.start_run(experiment_id=mlflow_experiment_id):\n",
    "        for param, value in run_params.items():\n",
    "            mlflow.log_param(param, value)\n",
    "        mlflow.log_metric(\"accuracy_mean\", run_mean_acc)\n",
    "        mlflow.log_metric(\"accuracy_std\", run_std_acc)\n",
    "        svc = SVC(**run_params)\n",
    "        mlflow.sklearn.log_model(svc, \"model\")"
   ]
  },
  {
   "cell_type": "markdown",
   "metadata": {},
   "source": [
    "Now, the SVC with the following hyper-parameter has the highest accuracy:\n",
    "- `C` $= 1$\n",
    "- `kernel` : 'linear'\n",
    "\n",
    "I proceed to train an SVC with these hyper-parameter values so that it can be used for making predications."
   ]
  },
  {
   "cell_type": "code",
   "execution_count": null,
   "metadata": {},
   "outputs": [
    {
     "name": "stdout",
     "output_type": "stream",
     "text": [
      "Transformer Vocabulary: 29222 words\n"
     ]
    }
   ],
   "source": [
    "bow_transformer = CountVectorizer(\\\n",
    "                        analyzer=split_into_lemmas)\\\n",
    "                    .fit(train['content'])\n",
    "print(f'Transformer Vocabulary: {len(bow_transformer.vocabulary_)} words')\n",
    "\n",
    "bow_train = bow_transformer.transform(msg_train)\n",
    "tfidf_transformer = TfidfTransformer().fit(bow_train)\n",
    "tfidf_train = tfidf_transformer.transform(bow_train)"
   ]
  },
  {
   "cell_type": "code",
   "execution_count": null,
   "metadata": {},
   "outputs": [],
   "source": [
    "spam_detector = SVC(kernel='linear',\n",
    "                    C=1)\\\n",
    "                .fit(tfidf_train, label_train)"
   ]
  },
  {
   "cell_type": "markdown",
   "metadata": {},
   "source": [
    "### Evaluation on Training Data"
   ]
  },
  {
   "cell_type": "code",
   "execution_count": null,
   "metadata": {},
   "outputs": [
    {
     "name": "stdout",
     "output_type": "stream",
     "text": [
      "Accuracy on Training Data: 99.95 %\n"
     ]
    }
   ],
   "source": [
    "pred_train = spam_detector.predict(tfidf_train)\n",
    "print(f'Accuracy on Training Data: {int(10000 * \\\n",
    "                                        accuracy_score(label_train, pred_train))\\\n",
    "                                            / 100} %')"
   ]
  },
  {
   "cell_type": "code",
   "execution_count": null,
   "metadata": {},
   "outputs": [
    {
     "data": {
      "text/plain": [
       "Text(0.5, 0, 'Predicted Label')"
      ]
     },
     "execution_count": 9,
     "metadata": {},
     "output_type": "execute_result"
    },
    {
     "data": {
      "image/png": "[encoded data removed]",
      "text/plain": [
       "<Figure size 480x480 with 2 Axes>"
      ]
     },
     "metadata": {},
     "output_type": "display_data"
    }
   ],
   "source": [
    "plt.matshow(confusion_matrix(label_train, pred_train),\n",
    "            cmap=plt.cm.binary,\n",
    "            interpolation='nearest')\n",
    "plt.title('Confusion Matrix')\n",
    "plt.colorbar()\n",
    "plt.ylabel('Expected Label')\n",
    "plt.xlabel('Predicted Label')"
   ]
  },
  {
   "cell_type": "code",
   "execution_count": null,
   "metadata": {},
   "outputs": [
    {
     "name": "stdout",
     "output_type": "stream",
     "text": [
      "              precision    recall  f1-score   support\n",
      "\n",
      "         ham       1.00      1.00      1.00       966\n",
      "        spam       1.00      1.00      1.00      3042\n",
      "\n",
      "    accuracy                           1.00      4008\n",
      "   macro avg       1.00      1.00      1.00      4008\n",
      "weighted avg       1.00      1.00      1.00      4008\n",
      "\n"
     ]
    }
   ],
   "source": [
    "print(classification_report(label_train, pred_train))"
   ]
  },
  {
   "cell_type": "markdown",
   "metadata": {},
   "source": [
    "## Evaluation on Testing Data"
   ]
  },
  {
   "cell_type": "code",
   "execution_count": null,
   "metadata": {},
   "outputs": [],
   "source": [
    "test = pd.read_csv('Data/test.csv', header=0)\n",
    "test = test.dropna()\n",
    "msg_test = test['content']\n",
    "label_test = test['label']"
   ]
  },
  {
   "cell_type": "code",
   "execution_count": null,
   "metadata": {},
   "outputs": [
    {
     "name": "stdout",
     "output_type": "stream",
     "text": [
      "Accuracy on Testing Data: 99.47 %\n"
     ]
    }
   ],
   "source": [
    "bow_test = bow_transformer.transform(msg_test)\n",
    "tfidf_test = tfidf_transformer.transform(bow_test)\n",
    "\n",
    "pred_test = spam_detector.predict(tfidf_test)\n",
    "print(f'Accuracy on Testing Data: {int(10000 * \\\n",
    "                                        accuracy_score(label_test, pred_test))\\\n",
    "                                            / 100} %')"
   ]
  },
  {
   "cell_type": "code",
   "execution_count": null,
   "metadata": {},
   "outputs": [
    {
     "data": {
      "text/plain": [
       "Text(0.5, 0, 'Predicted Label')"
      ]
     },
     "execution_count": 13,
     "metadata": {},
     "output_type": "execute_result"
    },
    {
     "data": {
      "image/png": "[encoded data removed]",
      "text/plain": [
       "<Figure size 480x480 with 2 Axes>"
      ]
     },
     "metadata": {},
     "output_type": "display_data"
    }
   ],
   "source": [
    "plt.matshow(confusion_matrix(label_test, pred_test),\n",
    "            cmap=plt.cm.binary,\n",
    "            interpolation='nearest')\n",
    "plt.title('Confusion Matrix (Testing)')\n",
    "plt.colorbar()\n",
    "plt.ylabel('Expected Label')\n",
    "plt.xlabel('Predicted Label')"
   ]
  },
  {
   "cell_type": "code",
   "execution_count": null,
   "metadata": {},
   "outputs": [
    {
     "name": "stdout",
     "output_type": "stream",
     "text": [
      "              precision    recall  f1-score   support\n",
      "\n",
      "         ham       0.99      0.99      0.99       279\n",
      "        spam       1.00      1.00      1.00       866\n",
      "\n",
      "    accuracy                           0.99      1145\n",
      "   macro avg       0.99      0.99      0.99      1145\n",
      "weighted avg       0.99      0.99      0.99      1145\n",
      "\n"
     ]
    }
   ],
   "source": [
    "print(classification_report(label_test, pred_test))"
   ]
  },
  {
   "cell_type": "markdown",
   "metadata": {},
   "source": [
    "## Evaluation on Validation Data"
   ]
  },
  {
   "cell_type": "code",
   "execution_count": null,
   "metadata": {},
   "outputs": [],
   "source": [
    "val = pd.read_csv('Data/validation.csv', header=0)\n",
    "val = val.dropna()\n",
    "msg_val = val['content']\n",
    "label_val = val['label']"
   ]
  },
  {
   "cell_type": "code",
   "execution_count": null,
   "metadata": {},
   "outputs": [
    {
     "name": "stdout",
     "output_type": "stream",
     "text": [
      "Accuracy on Testing Data: 99.29 %\n"
     ]
    }
   ],
   "source": [
    "bow_val = bow_transformer.transform(msg_val)\n",
    "tfidf_val = tfidf_transformer.transform(bow_val)\n",
    "\n",
    "pred_val = spam_detector.predict(tfidf_val)\n",
    "print(f'Accuracy on Testing Data: {int(10000 * \\\n",
    "                                        accuracy_score(label_val, pred_val))\\\n",
    "                                            / 100} %')"
   ]
  },
  {
   "cell_type": "code",
   "execution_count": null,
   "metadata": {},
   "outputs": [
    {
     "data": {
      "text/plain": [
       "Text(0.5, 0, 'Predicted Label')"
      ]
     },
     "execution_count": 17,
     "metadata": {},
     "output_type": "execute_result"
    },
    {
     "data": {
      "image/png": "[encoded data removed]",
      "text/plain": [
       "<Figure size 480x480 with 2 Axes>"
      ]
     },
     "metadata": {},
     "output_type": "display_data"
    }
   ],
   "source": [
    "plt.matshow(confusion_matrix(label_val, pred_val),\n",
    "            cmap=plt.cm.binary,\n",
    "            interpolation='nearest')\n",
    "plt.title('Confusion Matrix (Validation)')\n",
    "plt.colorbar()\n",
    "plt.ylabel('Expected Label')\n",
    "plt.xlabel('Predicted Label')"
   ]
  },
  {
   "cell_type": "code",
   "execution_count": null,
   "metadata": {},
   "outputs": [
    {
     "name": "stdout",
     "output_type": "stream",
     "text": [
      "              precision    recall  f1-score   support\n",
      "\n",
      "         ham       0.98      0.98      0.98       122\n",
      "        spam       1.00      1.00      1.00       449\n",
      "\n",
      "    accuracy                           0.99       571\n",
      "   macro avg       0.99      0.99      0.99       571\n",
      "weighted avg       0.99      0.99      0.99       571\n",
      "\n"
     ]
    }
   ],
   "source": [
    "print(classification_report(label_val, pred_val))"
   ]
  },
  {
   "cell_type": "code",
   "execution_count": null,
   "metadata": {},
   "outputs": [],
   "source": []
  }
 ],
 "metadata": {
  "kernelspec": {
   "display_name": "aml-2024",
   "language": "python",
   "name": "python3"
  },
  "language_info": {
   "codemirror_mode": {
    "name": "ipython",
    "version": 3
   },
   "file_extension": ".py",
   "mimetype": "text/x-python",
   "name": "python",
   "nbconvert_exporter": "python",
   "pygments_lexer": "ipython3",
   "version": "3.11.7"
  }
 },
 "nbformat": 4,
 "nbformat_minor": 2
}
