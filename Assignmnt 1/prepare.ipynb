{
 "cells": [
  {
   "cell_type": "code",
   "execution_count": null,
   "metadata": {},
   "outputs": [],
   "source": [
    "%matplotlib inline\n",
    "import matplotlib.pyplot as plt\n",
    "import csv\n",
    "from textblob import TextBlob\n",
    "import sklearn\n",
    "import _pickle as cPickle\n",
    "import pandas as pd\n",
    "import numpy as np\n",
    "from sklearn.feature_extraction.text import CountVectorizer, TfidfTransformer\n",
    "from sklearn.naive_bayes import MultinomialNB\n",
    "from sklearn.svm import SVC, LinearSVC\n",
    "from sklearn.metrics import classification_report, f1_score, accuracy_score, confusion_matrix\n",
    "from sklearn.pipeline import Pipeline\n",
    "from sklearn.model_selection import GridSearchCV\n",
    "from sklearn.model_selection import StratifiedKFold, cross_val_score, train_test_split \n",
    "from sklearn.tree import DecisionTreeClassifier \n",
    "from sklearn.model_selection import learning_curve"
   ]
  },
  {
   "cell_type": "code",
   "execution_count": 14,
   "metadata": {},
   "outputs": [],
   "source": [
    "source = open('data.csv', 'r')\n",
    "reader = csv.reader(source)\n",
    "next(reader)\n",
    "i = 0\n",
    "subjects = []\n",
    "contents = []\n",
    "labels = []\n",
    "\n",
    "for line in reader:\n",
    "    i += 1\n",
    "    text = line[0]\n",
    "    label = line[1]\n",
    "    try:\n",
    "        subject = text[text.index(\"Subject\") + len(\"Subject:\")\n",
    "                    : text.index(\"  \")].strip()\n",
    "        content = text[text.index(\"  \") :].strip()\n",
    "    except ValueError:\n",
    "        subject = text[text.index(\"Subject\") + len(\"Subject:\")\n",
    "                    :]\n",
    "        content = \"\"\n",
    "    subjects += [subject]\n",
    "    contents += [content]\n",
    "    labels.append(label)\n",
    "\n",
    "df = pd.DataFrame({'subject': subjects,\n",
    "                   'content': contents,\n",
    "                   'label': labels})\n",
    "df['label'] = pd.to_numeric(df['label'])"
   ]
  },
  {
   "cell_type": "code",
   "execution_count": 12,
   "metadata": {},
   "outputs": [],
   "source": [
    "def split_ttv(data, test_ratio, val_ratio):\n",
    "    shuffled_indices = np.random.permutation(len(data),)\n",
    "    test_set_size = int(len(data) * test_ratio)\n",
    "    val_set_size = int(len(data) * val_ratio)\n",
    "    test_indices = shuffled_indices[:test_set_size]\n",
    "    val_indices = shuffled_indices[test_set_size:\n",
    "        test_set_size + val_set_size]\n",
    "    train_indices = shuffled_indices[test_set_size + val_set_size:]\n",
    "    return (data.iloc[train_indices],\n",
    "            data.iloc[test_indices],\n",
    "            data.iloc[val_indices])"
   ]
  },
  {
   "cell_type": "code",
   "execution_count": 9,
   "metadata": {},
   "outputs": [],
   "source": [
    "train, test, validation = split_ttv(df, 0.2, 0.1)\n",
    "train.to_csv('train.csv', index=False)\n",
    "test.to_csv('test.csv', index=False)\n",
    "validation.to_csv('validation.csv', index=False)"
   ]
  },
  {
   "cell_type": "code",
   "execution_count": null,
   "metadata": {},
   "outputs": [],
   "source": []
  }
 ],
 "metadata": {
  "kernelspec": {
   "display_name": "aml-2024",
   "language": "python",
   "name": "python3"
  },
  "language_info": {
   "codemirror_mode": {
    "name": "ipython",
    "version": 3
   },
   "file_extension": ".py",
   "mimetype": "text/x-python",
   "name": "python",
   "nbconvert_exporter": "python",
   "pygments_lexer": "ipython3",
   "version": "3.12.0"
  }
 },
 "nbformat": 4,
 "nbformat_minor": 2
}
